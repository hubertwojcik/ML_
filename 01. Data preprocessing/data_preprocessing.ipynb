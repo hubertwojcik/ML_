{
 "cells": [
  {
   "cell_type": "markdown",
   "id": "28849f40-65b8-42ce-bf37-9c0bc3e1482c",
   "metadata": {},
   "source": [
    "## Importing libriaries"
   ]
  },
  {
   "cell_type": "code",
   "execution_count": 4,
   "id": "62d686f9-d287-4c3f-885c-8495dfbc31e2",
   "metadata": {},
   "outputs": [],
   "source": [
    "import numpy as np\n",
    "import matplotlib.pyplot as plt\n",
    "import pandas as pd"
   ]
  },
  {
   "cell_type": "markdown",
   "id": "51c93069-2907-448f-bb15-9fef00b826ec",
   "metadata": {},
   "source": [
    "## Importing the data"
   ]
  },
  {
   "cell_type": "code",
   "execution_count": 51,
   "id": "327e84c8-e8e1-407b-accc-3b7bd4fce6ba",
   "metadata": {},
   "outputs": [],
   "source": [
    "dataset = pd.read_csv(\"data.csv\")\n",
    "X = dataset.iloc[:, :-1].values\n",
    "Y = dataset.iloc[:,-1].values"
   ]
  },
  {
   "cell_type": "markdown",
   "id": "d5661030-67e6-4f29-b25a-9756ea89be0f",
   "metadata": {},
   "source": [
    "## Taking care of missing data"
   ]
  },
  {
   "cell_type": "code",
   "execution_count": null,
   "id": "170e2ee4-8149-4f3a-a0d2-e84293b7bcf9",
   "metadata": {},
   "outputs": [],
   "source": [
    "from sklearn.impute import Simpl"
   ]
  },
  {
   "cell_type": "markdown",
   "id": "956d6317-24d8-496c-a37b-5e6187b055c3",
   "metadata": {},
   "source": [
    "## Encoding categorical data"
   ]
  },
  {
   "cell_type": "markdown",
   "id": "588abb90-9ee6-42e7-97a6-a2057312c67a",
   "metadata": {},
   "source": [
    "### Encoding the Independedent Variable"
   ]
  },
  {
   "cell_type": "markdown",
   "id": "6f5ace1e-d473-405c-bcce-5fab215431fc",
   "metadata": {},
   "source": [
    "### Encoding the Dependent Variable"
   ]
  },
  {
   "cell_type": "markdown",
   "id": "57e673c7-1acd-473d-8994-0522e54d310a",
   "metadata": {},
   "source": [
    "## Feature Scaling"
   ]
  },
  {
   "cell_type": "markdown",
   "id": "392d55c9-9e85-4451-9420-ccb295fc86a6",
   "metadata": {},
   "source": [
    "### Splitting the dataset into the Training set and Test set"
   ]
  }
 ],
 "metadata": {
  "kernelspec": {
   "display_name": "Python [conda env:base] *",
   "language": "python",
   "name": "conda-base-py"
  },
  "language_info": {
   "codemirror_mode": {
    "name": "ipython",
    "version": 3
   },
   "file_extension": ".py",
   "mimetype": "text/x-python",
   "name": "python",
   "nbconvert_exporter": "python",
   "pygments_lexer": "ipython3",
   "version": "3.12.7"
  }
 },
 "nbformat": 4,
 "nbformat_minor": 5
}
