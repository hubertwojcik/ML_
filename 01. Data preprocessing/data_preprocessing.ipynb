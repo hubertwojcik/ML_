{
 "cells": [
  {
   "cell_type": "markdown",
   "id": "28849f40-65b8-42ce-bf37-9c0bc3e1482c",
   "metadata": {},
   "source": [
    "## Importing libriaries"
   ]
  },
  {
   "cell_type": "code",
   "execution_count": 4,
   "id": "62d686f9-d287-4c3f-885c-8495dfbc31e2",
   "metadata": {},
   "outputs": [],
   "source": [
    "import numpy as np\n",
    "import matplotlib.pyplot as plt\n",
    "import pandas as pd"
   ]
  },
  {
   "cell_type": "markdown",
   "id": "51c93069-2907-448f-bb15-9fef00b826ec",
   "metadata": {},
   "source": [
    "## Importing the data"
   ]
  },
  {
   "cell_type": "code",
   "execution_count": 76,
   "id": "327e84c8-e8e1-407b-accc-3b7bd4fce6ba",
   "metadata": {},
   "outputs": [
    {
     "name": "stdout",
     "output_type": "stream",
     "text": [
      "[['France' 44.0 72000.0]\n",
      " ['Spain' 27.0 48000.0]\n",
      " ['Germany' 30.0 54000.0]\n",
      " ['Spain' 38.0 61000.0]\n",
      " ['Germany' 40.0 nan]\n",
      " ['France' 35.0 58000.0]\n",
      " ['Spain' nan 52000.0]\n",
      " ['France' 48.0 79000.0]\n",
      " ['Germany' 50.0 83000.0]\n",
      " ['France' 37.0 67000.0]]\n"
     ]
    }
   ],
   "source": [
    "dataset = pd.read_csv(\"data.csv\")\n",
    "X = dataset.iloc[:, :-1].values\n",
    "Y = dataset.iloc[:,-1].values"
   ]
  },
  {
   "cell_type": "markdown",
   "id": "d5661030-67e6-4f29-b25a-9756ea89be0f",
   "metadata": {},
   "source": [
    "## Taking care of missing data"
   ]
  },
  {
   "cell_type": "code",
   "execution_count": 92,
   "id": "170e2ee4-8149-4f3a-a0d2-e84293b7bcf9",
   "metadata": {},
   "outputs": [],
   "source": [
    "from sklearn.impute import SimpleImputer\n",
    "imputer = SimpleImputer(missing_values = np.nan, strategy = 'mean')\n",
    "imputer.fit(X[:,1:3])\n",
    "X[:, 1:3] = imputer.transform(X[:,1:3])"
   ]
  },
  {
   "cell_type": "markdown",
   "id": "956d6317-24d8-496c-a37b-5e6187b055c3",
   "metadata": {},
   "source": [
    "## Encoding categorical data"
   ]
  },
  {
   "cell_type": "markdown",
   "id": "588abb90-9ee6-42e7-97a6-a2057312c67a",
   "metadata": {},
   "source": [
    "### Encoding the Independedent Variable"
   ]
  },
  {
   "cell_type": "code",
   "execution_count": 120,
   "id": "92a397c0-290a-4aba-b33d-a77c65eddbb7",
   "metadata": {},
   "outputs": [
    {
     "data": {
      "text/plain": [
       "array([[0.0, 1.0, 0.0, 0.0, 44.0, 72000.0],\n",
       "       [1.0, 0.0, 0.0, 1.0, 27.0, 48000.0],\n",
       "       [1.0, 0.0, 1.0, 0.0, 30.0, 54000.0],\n",
       "       [1.0, 0.0, 0.0, 1.0, 38.0, 61000.0],\n",
       "       [1.0, 0.0, 1.0, 0.0, 40.0, 63777.77777777778],\n",
       "       [0.0, 1.0, 0.0, 0.0, 35.0, 58000.0],\n",
       "       [1.0, 0.0, 0.0, 1.0, 38.77777777777778, 52000.0],\n",
       "       [0.0, 1.0, 0.0, 0.0, 48.0, 79000.0],\n",
       "       [1.0, 0.0, 1.0, 0.0, 50.0, 83000.0],\n",
       "       [0.0, 1.0, 0.0, 0.0, 37.0, 67000.0]], dtype=object)"
      ]
     },
     "execution_count": 120,
     "metadata": {},
     "output_type": "execute_result"
    }
   ],
   "source": [
    "from sklearn.compose import ColumnTransformer\n",
    "from sklearn.preprocessing import OneHotEncoder\n",
    "# Column transformer\n",
    "ct = ColumnTransformer(transformers=[('encoder', OneHotEncoder(), [0])], remainder='passthrough')\n",
    "X = np.array(ct.fit_transform(X))"
   ]
  },
  {
   "cell_type": "markdown",
   "id": "6f5ace1e-d473-405c-bcce-5fab215431fc",
   "metadata": {},
   "source": [
    "### Encoding the Dependent Variable"
   ]
  },
  {
   "cell_type": "code",
   "execution_count": 122,
   "id": "4df07190-00db-4745-87cd-30642ef97d58",
   "metadata": {},
   "outputs": [],
   "source": [
    "from sklearn.preprocessing import LabelEncoder\n"
   ]
  },
  {
   "cell_type": "markdown",
   "id": "57e673c7-1acd-473d-8994-0522e54d310a",
   "metadata": {},
   "source": [
    "## Feature Scaling"
   ]
  },
  {
   "cell_type": "markdown",
   "id": "392d55c9-9e85-4451-9420-ccb295fc86a6",
   "metadata": {},
   "source": [
    "### Splitting the dataset into the Training set and Test set"
   ]
  }
 ],
 "metadata": {
  "kernelspec": {
   "display_name": "Python [conda env:base] *",
   "language": "python",
   "name": "conda-base-py"
  },
  "language_info": {
   "codemirror_mode": {
    "name": "ipython",
    "version": 3
   },
   "file_extension": ".py",
   "mimetype": "text/x-python",
   "name": "python",
   "nbconvert_exporter": "python",
   "pygments_lexer": "ipython3",
   "version": "3.12.7"
  }
 },
 "nbformat": 4,
 "nbformat_minor": 5
}
