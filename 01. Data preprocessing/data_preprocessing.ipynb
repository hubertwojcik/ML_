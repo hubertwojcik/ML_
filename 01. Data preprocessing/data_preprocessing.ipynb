{
 "cells": [
  {
   "cell_type": "markdown",
   "id": "28849f40-65b8-42ce-bf37-9c0bc3e1482c",
   "metadata": {},
   "source": [
    "## Importing libriaries"
   ]
  },
  {
   "cell_type": "code",
   "execution_count": 136,
   "id": "62d686f9-d287-4c3f-885c-8495dfbc31e2",
   "metadata": {},
   "outputs": [],
   "source": [
    "import numpy as np\n",
    "import matplotlib.pyplot as plt\n",
    "import pandas as pd"
   ]
  },
  {
   "cell_type": "markdown",
   "id": "51c93069-2907-448f-bb15-9fef00b826ec",
   "metadata": {},
   "source": [
    "## Importing the data"
   ]
  },
  {
   "cell_type": "code",
   "execution_count": 138,
   "id": "327e84c8-e8e1-407b-accc-3b7bd4fce6ba",
   "metadata": {},
   "outputs": [],
   "source": [
    "dataset = pd.read_csv(\"data.csv\")\n",
    "X = dataset.iloc[:, :-1].values\n",
    "Y = dataset.iloc[:,-1].values"
   ]
  },
  {
   "cell_type": "markdown",
   "id": "d5661030-67e6-4f29-b25a-9756ea89be0f",
   "metadata": {},
   "source": [
    "## Taking care of missing data"
   ]
  },
  {
   "cell_type": "code",
   "execution_count": 140,
   "id": "170e2ee4-8149-4f3a-a0d2-e84293b7bcf9",
   "metadata": {},
   "outputs": [],
   "source": [
    "from sklearn.impute import SimpleImputer\n",
    "imputer = SimpleImputer(missing_values = np.nan, strategy = 'mean')\n",
    "imputer.fit(X[:,1:3])\n",
    "X[:, 1:3] = imputer.transform(X[:,1:3])"
   ]
  },
  {
   "cell_type": "markdown",
   "id": "956d6317-24d8-496c-a37b-5e6187b055c3",
   "metadata": {},
   "source": [
    "## Encoding categorical data"
   ]
  },
  {
   "cell_type": "markdown",
   "id": "588abb90-9ee6-42e7-97a6-a2057312c67a",
   "metadata": {},
   "source": [
    "### Encoding the Independedent Variable"
   ]
  },
  {
   "cell_type": "code",
   "execution_count": 142,
   "id": "92a397c0-290a-4aba-b33d-a77c65eddbb7",
   "metadata": {},
   "outputs": [],
   "source": [
    "from sklearn.compose import ColumnTransformer\n",
    "from sklearn.preprocessing import OneHotEncoder\n",
    "# Column transformer\n",
    "ct = ColumnTransformer(transformers=[('encoder', OneHotEncoder(), [0])], remainder='passthrough')\n",
    "X = np.array(ct.fit_transform(X))"
   ]
  },
  {
   "cell_type": "markdown",
   "id": "6f5ace1e-d473-405c-bcce-5fab215431fc",
   "metadata": {},
   "source": [
    "### Encoding the Dependent Variable"
   ]
  },
  {
   "cell_type": "code",
   "execution_count": 152,
   "id": "4df07190-00db-4745-87cd-30642ef97d58",
   "metadata": {},
   "outputs": [],
   "source": [
    "from sklearn.preprocessing import LabelEncoder\n",
    "le = LabelEncoder()\n",
    "y = le.fit_transform(Y)"
   ]
  },
  {
   "cell_type": "markdown",
   "id": "392d55c9-9e85-4451-9420-ccb295fc86a6",
   "metadata": {},
   "source": [
    "### Splitting the dataset into the Training set and Test set"
   ]
  },
  {
   "cell_type": "code",
   "execution_count": 162,
   "id": "e867d9c8-f2a3-4cc8-8b3c-177f0c8d89c9",
   "metadata": {},
   "outputs": [],
   "source": [
    "from sklearn.model_selection import train_test_split\n",
    "X_train, X_test, y_train, y_test = train_test_split(X, y, test_size = 0.2, random_state = 1)"
   ]
  },
  {
   "cell_type": "markdown",
   "id": "57e673c7-1acd-473d-8994-0522e54d310a",
   "metadata": {},
   "source": [
    "## Feature Scaling"
   ]
  },
  {
   "cell_type": "code",
   "execution_count": 174,
   "id": "e974d018-ff8b-4537-a3ec-fc01d2f5cf4a",
   "metadata": {},
   "outputs": [],
   "source": [
    "from sklearn.preprocessing import StandardScaler\n",
    "sc = StandardScaler()\n",
    "X_train[:, 3:] = sc.fit_transform(X_train[:, 3:])\n",
    "X_test[:, 3:] = sc.transform(X_test[:, 3:])"
   ]
  },
  {
   "cell_type": "code",
   "execution_count": 170,
   "id": "b12d3020-b856-4ec3-a18d-06e762ba8617",
   "metadata": {},
   "outputs": [
    {
     "data": {
      "text/plain": [
       "array([[0.0, 0.0, 1.0, -0.1915918438457856, -1.0781259408412427],\n",
       "       [0.0, 1.0, 0.0, -0.014117293757057902, -0.07013167641635401],\n",
       "       [1.0, 0.0, 0.0, 0.5667085065333239, 0.6335624327104546],\n",
       "       [0.0, 0.0, 1.0, -0.3045301939022488, -0.30786617274297895],\n",
       "       [0.0, 0.0, 1.0, -1.901801144700799, -1.4204636155515822],\n",
       "       [1.0, 0.0, 0.0, 1.1475343068237056, 1.2326533634535488],\n",
       "       [0.0, 1.0, 0.0, 1.4379472069688966, 1.5749910381638883],\n",
       "       [1.0, 0.0, 0.0, -0.7401495441200352, -0.5646194287757336]],\n",
       "      dtype=object)"
      ]
     },
     "execution_count": 170,
     "metadata": {},
     "output_type": "execute_result"
    }
   ],
   "source": []
  }
 ],
 "metadata": {
  "kernelspec": {
   "display_name": "Python [conda env:base] *",
   "language": "python",
   "name": "conda-base-py"
  },
  "language_info": {
   "codemirror_mode": {
    "name": "ipython",
    "version": 3
   },
   "file_extension": ".py",
   "mimetype": "text/x-python",
   "name": "python",
   "nbconvert_exporter": "python",
   "pygments_lexer": "ipython3",
   "version": "3.12.7"
  }
 },
 "nbformat": 4,
 "nbformat_minor": 5
}
